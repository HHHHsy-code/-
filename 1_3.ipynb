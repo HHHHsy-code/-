{
 "cells": [
  {
   "cell_type": "code",
   "execution_count": null,
   "id": "d375aeb5",
   "metadata": {},
   "outputs": [
    {
     "name": "stdout",
     "output_type": "stream",
     "text": [
      "[1.+0.j 0.+0.j 0.+0.j 0.+0.j]\n",
      "[0.+0.j 0.+0.j 1.+0.j 0.+0.j]\n",
      "[0.+0.j 1.+0.j 0.+0.j 0.+0.j]\n",
      "[0.+0.j 0.+0.j 0.+0.j 1.+0.j]\n"
     ]
    }
   ],
   "source": [
    "import numpy as np\n",
    "import pyqpanda3 as pq\n",
    "from pyqpanda3.core import QCircuit, CNOT, SWAP\n",
    "from pyqpanda3.quantum_info import Unitary\n",
    "\n",
    "# 导入比较矩阵的函数，用于验证结果。禁止修改此处的代码\n",
    "def compare_matrices(mat1: np.ndarray, mat2: np.ndarray) -> bool:\n",
    "    \"\"\"\n",
    "    Compare two matrices for equality.\n",
    "    \"\"\"\n",
    "    if mat1.shape != mat2.shape:\n",
    "        return False\n",
    "    return np.allclose(mat1, mat2, atol=1e-8)\n",
    "\n",
    "if __name__ == \"__main__\":\n",
    "    \"\"\"\n",
    "    注意：请在下方开始答题，请勿修改上方的代码!!!\n",
    "    \"\"\"\n",
    "    cir1 = QCircuit()\n",
    "    cir1 << CNOT(1,0) << CNOT(0,1) << CNOT(1,0) \n",
    "\n",
    "    cir2 = QCircuit()\n",
    "    cir2 << SWAP(0, 1)\n",
    "\n",
    "    U_cir1 = Unitary(cir1).ndarray()\n",
    "    U_cir2 = Unitary(cir2).ndarray()\n",
    "\n",
    "    print(compare_matrices(U_cir1, U_cir2))\n"
   ]
  }
 ],
 "metadata": {
  "kernelspec": {
   "display_name": "QPanda3",
   "language": "python",
   "name": "python3"
  },
  "language_info": {
   "codemirror_mode": {
    "name": "ipython",
    "version": 3
   },
   "file_extension": ".py",
   "mimetype": "text/x-python",
   "name": "python",
   "nbconvert_exporter": "python",
   "pygments_lexer": "ipython3",
   "version": "3.10.17"
  }
 },
 "nbformat": 4,
 "nbformat_minor": 5
}
