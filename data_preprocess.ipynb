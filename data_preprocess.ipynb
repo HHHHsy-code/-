{
 "cells": [
  {
   "cell_type": "code",
   "execution_count": 1,
   "id": "ba064d88",
   "metadata": {},
   "outputs": [],
   "source": [
    "import pandas as pd\n",
    "from sklearn.model_selection import train_test_split\n",
    "from sklearn.preprocessing import StandardScaler, LabelEncoder\n",
    "\n",
    "def data_preprocess(data_csv):\n",
    "    \"\"\"\n",
    "    1. 对数据的预处理，获取训练集和测试集数据的全部特征\n",
    "    \"\"\"\n",
    "\n",
    "\n",
    "if __name__ == \"__main__\":\n",
    "    data_csv = './code/train_data.csv'  # 替换为你的数据路径\n",
    "    data_preprocess(data_csv)"
   ]
  }
 ],
 "metadata": {
  "kernelspec": {
   "display_name": "QPanda3",
   "language": "python",
   "name": "python3"
  },
  "language_info": {
   "codemirror_mode": {
    "name": "ipython",
    "version": 3
   },
   "file_extension": ".py",
   "mimetype": "text/x-python",
   "name": "python",
   "nbconvert_exporter": "python",
   "pygments_lexer": "ipython3",
   "version": "3.10.17"
  }
 },
 "nbformat": 4,
 "nbformat_minor": 5
}
