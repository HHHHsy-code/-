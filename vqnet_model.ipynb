{
 "cells": [
  {
   "cell_type": "code",
   "execution_count": null,
   "id": "7bf93131",
   "metadata": {},
   "outputs": [],
   "source": [
    "from pyvqnet.dtype import *\n",
    "from pyvqnet.tensor.tensor import QTensor\n",
    "from pyvqnet.tensor import tensor\n",
    "import numpy as np\n",
    "from sklearn.metrics import f1_score\n",
    "import pandas as pd\n",
    "from pyvqnet.data.data import data_generator\n",
    "from pyvqnet.nn.module import Module\n",
    "from pyvqnet.nn import Linear, ReLu\n",
    "from pyvqnet.optim.adam import Adam\n",
    "from pyvqnet.nn.loss import CrossEntropyLoss\n",
    "\n",
    "def load_data():\n",
    "    \"\"\"\n",
    "    1. 读取数据并转换为张量\n",
    "    \"\"\"\n",
    "\n",
    "\n",
    "class AirQualityNN(Module):\n",
    "    \"\"\"\n",
    "    2. 在这里完成初始化神经网络模型的代码\n",
    "    \"\"\"\n",
    "\n",
    "\n",
    "def model_train():\n",
    "    \"\"\"\n",
    "    3. 在这里完成训练模型的代码\n",
    "    \"\"\"\n",
    "\n",
    "def model_test():\n",
    "    \"\"\"\n",
    "    4. 使用测试数据集验证模型\n",
    "    \"\"\"\n",
    "\n",
    "\n",
    "if __name__ == \"__main__\":\n",
    "    model_train()\n",
    "\n",
    "    model_test()\n"
   ]
  }
 ],
 "metadata": {
  "kernelspec": {
   "display_name": "QPanda3",
   "language": "python",
   "name": "python3"
  },
  "language_info": {
   "name": "python",
   "version": "3.10.17"
  }
 },
 "nbformat": 4,
 "nbformat_minor": 5
}
